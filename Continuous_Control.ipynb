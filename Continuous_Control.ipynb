{
 "cells": [
  {
   "cell_type": "markdown",
   "metadata": {},
   "source": [
    "# Continuous Control\n",
    "\n",
    "---\n",
    "\n",
    "In this notebook, you will learn how to use the Unity ML-Agents environment for the second project of the [Deep Reinforcement Learning Nanodegree](https://www.udacity.com/course/deep-reinforcement-learning-nanodegree--nd893) program.\n",
    "\n",
    "### 1. Start the Environment\n",
    "\n",
    "We begin by importing the necessary packages.  If the code cell below returns an error, please revisit the project instructions to double-check that you have installed [Unity ML-Agents](https://github.com/Unity-Technologies/ml-agents/blob/master/docs/Installation.md) and [NumPy](http://www.numpy.org/)."
   ]
  },
  {
   "cell_type": "code",
   "execution_count": 1,
   "metadata": {
    "ExecuteTime": {
     "end_time": "2020-06-11T11:13:53.681551Z",
     "start_time": "2020-06-11T11:13:53.545495Z"
    }
   },
   "outputs": [],
   "source": [
    "from unityagents import UnityEnvironment\n",
    "import numpy as np"
   ]
  },
  {
   "cell_type": "markdown",
   "metadata": {},
   "source": [
    "Next, we will start the environment!  **_Before running the code cell below_**, change the `file_name` parameter to match the location of the Unity environment that you downloaded.\n",
    "\n",
    "- **Mac**: `\"path/to/Reacher.app\"`\n",
    "- **Windows** (x86): `\"path/to/Reacher_Windows_x86/Reacher.exe\"`\n",
    "- **Windows** (x86_64): `\"path/to/Reacher_Windows_x86_64/Reacher.exe\"`\n",
    "- **Linux** (x86): `\"path/to/Reacher_Linux/Reacher.x86\"`\n",
    "- **Linux** (x86_64): `\"path/to/Reacher_Linux/Reacher.x86_64\"`\n",
    "- **Linux** (x86, headless): `\"path/to/Reacher_Linux_NoVis/Reacher.x86\"`\n",
    "- **Linux** (x86_64, headless): `\"path/to/Reacher_Linux_NoVis/Reacher.x86_64\"`\n",
    "\n",
    "For instance, if you are using a Mac, then you downloaded `Reacher.app`.  If this file is in the same folder as the notebook, then the line below should appear as follows:\n",
    "```\n",
    "env = UnityEnvironment(file_name=\"Reacher.app\")\n",
    "```"
   ]
  },
  {
   "cell_type": "code",
   "execution_count": 2,
   "metadata": {
    "ExecuteTime": {
     "end_time": "2020-06-11T01:23:31.905985Z",
     "start_time": "2020-06-11T01:23:31.659510Z"
    }
   },
   "outputs": [
    {
     "name": "stderr",
     "output_type": "stream",
     "text": [
      "INFO:unityagents:\n",
      "'Academy' started successfully!\n",
      "Unity Academy name: Academy\n",
      "        Number of Brains: 1\n",
      "        Number of External Brains : 1\n",
      "        Lesson number : 0\n",
      "        Reset Parameters :\n",
      "\t\tgoal_speed -> 1.0\n",
      "\t\tgoal_size -> 5.0\n",
      "Unity brain name: ReacherBrain\n",
      "        Number of Visual Observations (per agent): 0\n",
      "        Vector Observation space type: continuous\n",
      "        Vector Observation space size (per agent): 33\n",
      "        Number of stacked Vector Observation: 1\n",
      "        Vector Action space type: continuous\n",
      "        Vector Action space size (per agent): 4\n",
      "        Vector Action descriptions: , , , \n"
     ]
    }
   ],
   "source": [
    "env = UnityEnvironment(file_name='Reacher_Linux_NoVis/Reacher.x86_64')"
   ]
  },
  {
   "cell_type": "markdown",
   "metadata": {},
   "source": [
    "Environments contain **_brains_** which are responsible for deciding the actions of their associated agents. Here we check for the first brain available, and set it as the default brain we will be controlling from Python."
   ]
  },
  {
   "cell_type": "code",
   "execution_count": 3,
   "metadata": {
    "ExecuteTime": {
     "end_time": "2020-06-11T11:14:16.896036Z",
     "start_time": "2020-06-11T11:14:16.893952Z"
    }
   },
   "outputs": [],
   "source": [
    "# get the default brain\n",
    "brain_name = env.brain_names[0]\n",
    "brain = env.brains[brain_name]"
   ]
  },
  {
   "cell_type": "markdown",
   "metadata": {},
   "source": [
    "### 2. Examine the State and Action Spaces\n",
    "\n",
    "In this environment, a double-jointed arm can move to target locations. A reward of `+0.1` is provided for each step that the agent's hand is in the goal location. Thus, the goal of your agent is to maintain its position at the target location for as many time steps as possible.\n",
    "\n",
    "The observation space consists of `33` variables corresponding to position, rotation, velocity, and angular velocities of the arm.  Each action is a vector with four numbers, corresponding to torque applicable to two joints.  Every entry in the action vector must be a number between `-1` and `1`.\n",
    "\n",
    "Run the code cell below to print some information about the environment."
   ]
  },
  {
   "cell_type": "code",
   "execution_count": 4,
   "metadata": {
    "ExecuteTime": {
     "end_time": "2020-06-11T11:14:19.960431Z",
     "start_time": "2020-06-11T11:14:19.383928Z"
    }
   },
   "outputs": [
    {
     "name": "stdout",
     "output_type": "stream",
     "text": [
      "Number of agents: 20\n",
      "Size of each action: 4\n",
      "There are 20 agents. Each observes a state with length: 33\n",
      "The state for the first agent looks like: [ 0.00000000e+00 -4.00000000e+00  0.00000000e+00  1.00000000e+00\n",
      " -0.00000000e+00 -0.00000000e+00 -4.37113883e-08  0.00000000e+00\n",
      "  0.00000000e+00  0.00000000e+00  0.00000000e+00  0.00000000e+00\n",
      "  0.00000000e+00  0.00000000e+00 -1.00000000e+01  0.00000000e+00\n",
      "  1.00000000e+00 -0.00000000e+00 -0.00000000e+00 -4.37113883e-08\n",
      "  0.00000000e+00  0.00000000e+00  0.00000000e+00  0.00000000e+00\n",
      "  0.00000000e+00  0.00000000e+00  5.75471878e+00 -1.00000000e+00\n",
      "  5.55726624e+00  0.00000000e+00  1.00000000e+00  0.00000000e+00\n",
      " -1.68164849e-01]\n"
     ]
    }
   ],
   "source": [
    "# reset the environment\n",
    "env_info = env.reset(train_mode=True)[brain_name]\n",
    "\n",
    "# number of agents\n",
    "num_agents = len(env_info.agents)\n",
    "print('Number of agents:', num_agents)\n",
    "\n",
    "# size of each action\n",
    "action_size = brain.vector_action_space_size\n",
    "print('Size of each action:', action_size)\n",
    "\n",
    "# examine the state space \n",
    "states = env_info.vector_observations\n",
    "state_size = states.shape[1]\n",
    "print('There are {} agents. Each observes a state with length: {}'.format(states.shape[0], state_size))\n",
    "print('The state for the first agent looks like:', states[0])"
   ]
  },
  {
   "cell_type": "markdown",
   "metadata": {},
   "source": [
    "### 3. Take Random Actions in the Environment\n",
    "\n",
    "In the next code cell, you will learn how to use the Python API to control the agent and receive feedback from the environment.\n",
    "\n",
    "Once this cell is executed, you will watch the agent's performance, if it selects an action at random with each time step.  A window should pop up that allows you to observe the agent, as it moves through the environment.  \n",
    "\n",
    "Of course, as part of the project, you'll have to change the code so that the agent is able to use its experience to gradually choose better actions when interacting with the environment!"
   ]
  },
  {
   "cell_type": "markdown",
   "metadata": {
    "ExecuteTime": {
     "end_time": "2020-06-09T11:21:25.398070Z",
     "start_time": "2020-06-09T11:20:06.615211Z"
    }
   },
   "source": [
    "env_info = env.reset(train_mode=False)[brain_name]     # reset the environment    \n",
    "states = env_info.vector_observations                  # get the current state (for each agent)\n",
    "scores = np.zeros(num_agents)                          # initialize the score (for each agent)\n",
    "count = 0\n",
    "while True:\n",
    "    actions = np.random.randn(num_agents, action_size) # select an action (for each agent)\n",
    "    actions = np.clip(actions, -1, 1)                  # all actions between -1 and 1\n",
    "    print(\"Actions are: \", actions)\n",
    "    env_info = env.step(actions)[brain_name]           # send all actions to tne environment\n",
    "    next_states = env_info.vector_observations         # get next state (for each agent)\n",
    "    rewards = env_info.rewards                         # get reward (for each agent)\n",
    "    dones = env_info.local_done                        # see if episode finished\n",
    "    scores += env_info.rewards                         # update the score (for each agent)\n",
    "    states = next_states     \n",
    "    count += 1 # roll over states to next time step\n",
    "    if np.any(dones):                                  # exit loop if episode finished\n",
    "        break\n",
    "print('Total score (averaged over agents) this episode: {}'.format(np.mean(scores)))\n",
    "print(\"Total Episodes :\", count)"
   ]
  },
  {
   "cell_type": "markdown",
   "metadata": {},
   "source": [
    "When finished, you can close the environment."
   ]
  },
  {
   "cell_type": "markdown",
   "metadata": {},
   "source": [
    "## Train your agent"
   ]
  },
  {
   "cell_type": "code",
   "execution_count": 5,
   "metadata": {
    "ExecuteTime": {
     "end_time": "2020-06-11T11:14:28.474917Z",
     "start_time": "2020-06-11T11:14:28.110913Z"
    }
   },
   "outputs": [],
   "source": [
    "import gym\n",
    "import random\n",
    "import torch\n",
    "import numpy as np\n",
    "from collections import deque\n",
    "import matplotlib.pyplot as plt\n",
    "%matplotlib inline\n",
    "\n",
    "import time\n",
    "from ddpg_agent import Agent"
   ]
  },
  {
   "cell_type": "code",
   "execution_count": 6,
   "metadata": {
    "ExecuteTime": {
     "end_time": "2020-06-11T01:23:33.976233Z",
     "start_time": "2020-06-11T01:23:32.369819Z"
    }
   },
   "outputs": [
    {
     "name": "stdout",
     "output_type": "stream",
     "text": [
      "Actor network built: ModuleList(\n",
      "  (0): Linear(in_features=33, out_features=400, bias=True)\n",
      "  (1): Linear(in_features=400, out_features=300, bias=True)\n",
      "  (2): Linear(in_features=300, out_features=4, bias=True)\n",
      ")\n",
      "Actor network built: ModuleList(\n",
      "  (0): Linear(in_features=33, out_features=400, bias=True)\n",
      "  (1): Linear(in_features=400, out_features=300, bias=True)\n",
      "  (2): Linear(in_features=300, out_features=4, bias=True)\n",
      ")\n",
      "Critic network built: ModuleList(\n",
      "  (0): Linear(in_features=33, out_features=400, bias=True)\n",
      "  (1): Linear(in_features=404, out_features=300, bias=True)\n",
      "  (2): Linear(in_features=300, out_features=1, bias=True)\n",
      ")\n",
      "Critic network built: ModuleList(\n",
      "  (0): Linear(in_features=33, out_features=400, bias=True)\n",
      "  (1): Linear(in_features=404, out_features=300, bias=True)\n",
      "  (2): Linear(in_features=300, out_features=1, bias=True)\n",
      ")\n"
     ]
    }
   ],
   "source": [
    "agent = Agent(state_size=state_size, action_size=action_size, random_seed=0)"
   ]
  },
  {
   "cell_type": "code",
   "execution_count": null,
   "metadata": {},
   "outputs": [],
   "source": [
    "train = False"
   ]
  },
  {
   "cell_type": "code",
   "execution_count": 7,
   "metadata": {
    "ExecuteTime": {
     "end_time": "2020-06-11T05:51:15.297532Z",
     "start_time": "2020-06-11T01:23:33.977235Z"
    }
   },
   "outputs": [
    {
     "name": "stdout",
     "output_type": "stream",
     "text": [
      "Episode   1 (02m04s)\tScore:  1.34 \tMoving average:  1.34\n",
      "Episode   2 (02m05s)\tScore:  1.67 \tMoving average:  1.51\n",
      "Episode   3 (02m06s)\tScore:  2.68 \tMoving average:  1.90\n",
      "Episode   4 (02m08s)\tScore:  2.77 \tMoving average:  2.11\n",
      "Episode   5 (02m16s)\tScore:  4.44 \tMoving average:  2.58\n",
      "Episode   6 (02m14s)\tScore:  4.52 \tMoving average:  2.90\n",
      "Episode   7 (02m15s)\tScore:  6.76 \tMoving average:  3.45\n",
      "Episode   8 (02m12s)\tScore:  6.86 \tMoving average:  3.88\n",
      "Episode   9 (02m14s)\tScore:  6.37 \tMoving average:  4.16\n",
      "Episode  10 (02m11s)\tScore:  7.04 \tMoving average:  4.44\n",
      "Episode  11 (02m11s)\tScore:  8.16 \tMoving average:  4.78\n",
      "Episode  12 (02m18s)\tScore:  8.15 \tMoving average:  5.06\n",
      "Episode  13 (02m14s)\tScore:  8.89 \tMoving average:  5.36\n",
      "Episode  14 (02m12s)\tScore:  9.64 \tMoving average:  5.66\n",
      "Episode  15 (02m13s)\tScore:  8.37 \tMoving average:  5.84\n",
      "Episode  16 (02m12s)\tScore:  6.54 \tMoving average:  5.89\n",
      "Episode  17 (02m13s)\tScore:  8.49 \tMoving average:  6.04\n",
      "Episode  18 (02m10s)\tScore:  8.70 \tMoving average:  6.19\n",
      "Episode  19 (02m10s)\tScore: 10.79 \tMoving average:  6.43\n",
      "Episode  20 (02m10s)\tScore: 12.38 \tMoving average:  6.73\n",
      "Episode  21 (02m13s)\tScore: 11.40 \tMoving average:  6.95\n",
      "Episode  22 (02m10s)\tScore: 12.76 \tMoving average:  7.21\n",
      "Episode  23 (02m10s)\tScore: 11.49 \tMoving average:  7.40\n",
      "Episode  24 (02m09s)\tScore: 12.00 \tMoving average:  7.59\n",
      "Episode  25 (02m10s)\tScore: 15.66 \tMoving average:  7.91\n",
      "Episode  26 (02m09s)\tScore: 16.41 \tMoving average:  8.24\n",
      "Episode  27 (02m10s)\tScore: 20.95 \tMoving average:  8.71\n",
      "Episode  28 (02m10s)\tScore: 20.62 \tMoving average:  9.14\n",
      "Episode  29 (02m10s)\tScore: 17.78 \tMoving average:  9.44\n",
      "Episode  30 (02m10s)\tScore: 18.44 \tMoving average:  9.74\n",
      "Episode  31 (02m10s)\tScore: 18.46 \tMoving average: 10.02\n",
      "Episode  32 (02m10s)\tScore: 18.61 \tMoving average: 10.29\n",
      "Episode  33 (02m10s)\tScore: 25.97 \tMoving average: 10.76\n",
      "Episode  34 (02m10s)\tScore: 31.49 \tMoving average: 11.37\n",
      "Episode  35 (02m10s)\tScore: 30.09 \tMoving average: 11.91\n",
      "Episode  36 (02m10s)\tScore: 30.55 \tMoving average: 12.42\n",
      "Episode  37 (02m10s)\tScore: 32.46 \tMoving average: 12.96\n",
      "Episode  38 (02m10s)\tScore: 28.22 \tMoving average: 13.37\n",
      "Episode  39 (02m10s)\tScore: 34.54 \tMoving average: 13.91\n",
      "Episode  40 (02m10s)\tScore: 32.30 \tMoving average: 14.37\n",
      "Episode  41 (02m10s)\tScore: 31.05 \tMoving average: 14.78\n",
      "Episode  42 (02m10s)\tScore: 32.27 \tMoving average: 15.19\n",
      "Episode  43 (02m10s)\tScore: 32.90 \tMoving average: 15.60\n",
      "Episode  44 (02m10s)\tScore: 34.11 \tMoving average: 16.02\n",
      "Episode  45 (02m10s)\tScore: 32.65 \tMoving average: 16.39\n",
      "Episode  46 (02m10s)\tScore: 34.62 \tMoving average: 16.79\n",
      "Episode  47 (02m10s)\tScore: 35.33 \tMoving average: 17.18\n",
      "Episode  48 (02m10s)\tScore: 28.09 \tMoving average: 17.41\n",
      "Episode  49 (02m10s)\tScore: 33.60 \tMoving average: 17.74\n",
      "Episode  50 (02m10s)\tScore: 35.53 \tMoving average: 18.10\n",
      "Episode  51 (02m10s)\tScore: 29.71 \tMoving average: 18.33\n",
      "Episode  52 (02m10s)\tScore: 33.04 \tMoving average: 18.61\n",
      "Episode  53 (02m10s)\tScore: 34.59 \tMoving average: 18.91\n",
      "Episode  54 (02m10s)\tScore: 35.71 \tMoving average: 19.22\n",
      "Episode  55 (02m10s)\tScore: 33.43 \tMoving average: 19.48\n",
      "Episode  56 (02m10s)\tScore: 36.41 \tMoving average: 19.78\n",
      "Episode  57 (02m10s)\tScore: 30.15 \tMoving average: 19.96\n",
      "Episode  58 (02m10s)\tScore: 35.89 \tMoving average: 20.24\n",
      "Episode  59 (02m10s)\tScore: 31.64 \tMoving average: 20.43\n",
      "Episode  60 (02m10s)\tScore: 30.54 \tMoving average: 20.60\n",
      "Episode  61 (02m10s)\tScore: 34.29 \tMoving average: 20.82\n",
      "Episode  62 (02m10s)\tScore: 35.12 \tMoving average: 21.06\n",
      "Episode  63 (02m10s)\tScore: 24.83 \tMoving average: 21.12\n",
      "Episode  64 (02m10s)\tScore: 30.17 \tMoving average: 21.26\n",
      "Episode  65 (02m10s)\tScore: 31.35 \tMoving average: 21.41\n",
      "Episode  66 (02m10s)\tScore: 30.17 \tMoving average: 21.54\n",
      "Episode  67 (02m10s)\tScore: 31.70 \tMoving average: 21.70\n",
      "Episode  68 (02m10s)\tScore: 33.44 \tMoving average: 21.87\n",
      "Episode  69 (02m10s)\tScore: 30.05 \tMoving average: 21.99\n",
      "Episode  70 (02m10s)\tScore: 35.85 \tMoving average: 22.19\n",
      "Episode  71 (02m10s)\tScore: 30.69 \tMoving average: 22.31\n",
      "Episode  72 (02m10s)\tScore: 34.50 \tMoving average: 22.47\n",
      "Episode  73 (02m10s)\tScore: 30.62 \tMoving average: 22.59\n",
      "Episode  74 (02m10s)\tScore: 27.74 \tMoving average: 22.66\n",
      "Episode  75 (02m10s)\tScore: 29.94 \tMoving average: 22.75\n",
      "Episode  76 (02m10s)\tScore: 37.39 \tMoving average: 22.95\n",
      "Episode  77 (02m10s)\tScore: 34.18 \tMoving average: 23.09\n",
      "Episode  78 (02m10s)\tScore: 28.59 \tMoving average: 23.16\n",
      "Episode  79 (02m10s)\tScore: 30.25 \tMoving average: 23.25\n",
      "Episode  80 (02m10s)\tScore: 35.42 \tMoving average: 23.40\n",
      "Episode  81 (02m10s)\tScore: 30.86 \tMoving average: 23.50\n",
      "Episode  82 (02m10s)\tScore: 28.73 \tMoving average: 23.56\n",
      "Episode  83 (02m10s)\tScore: 22.72 \tMoving average: 23.55\n",
      "Episode  84 (02m10s)\tScore: 32.12 \tMoving average: 23.65\n",
      "Episode  85 (02m10s)\tScore: 27.24 \tMoving average: 23.69\n",
      "Episode  86 (02m10s)\tScore: 28.48 \tMoving average: 23.75\n",
      "Episode  87 (02m10s)\tScore: 27.98 \tMoving average: 23.80\n",
      "Episode  88 (02m10s)\tScore: 30.28 \tMoving average: 23.87\n",
      "Episode  89 (02m10s)\tScore: 29.93 \tMoving average: 23.94\n",
      "Episode  90 (02m10s)\tScore: 33.21 \tMoving average: 24.04\n",
      "Episode  91 (02m10s)\tScore: 32.76 \tMoving average: 24.14\n",
      "Episode  92 (02m10s)\tScore: 29.84 \tMoving average: 24.20\n",
      "Episode  93 (02m10s)\tScore: 29.93 \tMoving average: 24.26\n",
      "Episode  94 (02m10s)\tScore: 18.16 \tMoving average: 24.20\n",
      "Episode  95 (02m10s)\tScore: 27.20 \tMoving average: 24.23\n",
      "Episode  96 (02m10s)\tScore: 27.77 \tMoving average: 24.27\n",
      "Episode  97 (02m10s)\tScore: 32.57 \tMoving average: 24.35\n",
      "Episode  98 (02m10s)\tScore: 36.80 \tMoving average: 24.48\n",
      "Episode  99 (02m10s)\tScore: 25.64 \tMoving average: 24.49\n",
      "Episode 100 (02m10s)\tScore: 28.96 \tMoving average: 24.53\n",
      "Episode 100\tAverage Score: 24.53\n",
      "Episode 101 (02m10s)\tScore: 36.63 \tMoving average: 24.89\n",
      "Episode 102 (02m10s)\tScore: 34.20 \tMoving average: 25.21\n",
      "Episode 103 (02m10s)\tScore: 33.58 \tMoving average: 25.52\n",
      "Episode 104 (02m10s)\tScore: 29.99 \tMoving average: 25.79\n",
      "Episode 105 (02m10s)\tScore: 35.35 \tMoving average: 26.10\n",
      "Episode 106 (02m10s)\tScore: 30.82 \tMoving average: 26.37\n",
      "Episode 107 (02m10s)\tScore: 32.29 \tMoving average: 26.62\n",
      "Episode 108 (02m10s)\tScore: 29.56 \tMoving average: 26.85\n",
      "Episode 109 (02m10s)\tScore: 28.44 \tMoving average: 27.07\n",
      "Episode 110 (02m10s)\tScore: 32.00 \tMoving average: 27.32\n",
      "Episode 111 (02m10s)\tScore: 27.98 \tMoving average: 27.52\n",
      "Episode 112 (02m10s)\tScore: 29.54 \tMoving average: 27.73\n",
      "Episode 113 (02m10s)\tScore: 37.79 \tMoving average: 28.02\n",
      "Episode 114 (02m10s)\tScore: 34.31 \tMoving average: 28.27\n",
      "Episode 115 (02m10s)\tScore: 22.54 \tMoving average: 28.41\n",
      "Episode 116 (02m10s)\tScore: 31.22 \tMoving average: 28.66\n",
      "Episode 117 (02m10s)\tScore: 25.45 \tMoving average: 28.83\n",
      "Episode 118 (02m10s)\tScore: 32.67 \tMoving average: 29.06\n",
      "Episode 119 (02m10s)\tScore: 33.97 \tMoving average: 29.30\n",
      "Episode 120 (02m10s)\tScore: 28.85 \tMoving average: 29.46\n",
      "Episode 121 (02m10s)\tScore: 32.27 \tMoving average: 29.67\n",
      "Episode 122 (02m10s)\tScore: 33.99 \tMoving average: 29.88\n",
      "Episode 123 (02m10s)\tScore: 35.01 \tMoving average: 30.12\n",
      "\n",
      "Environment solved in 123 episodes!\tAverage Score: 30.12\n"
     ]
    },
    {
     "data": {
      "image/png": "[encoded data removed]",
      "text/plain": [
       "<Figure size 432x288 with 1 Axes>"
      ]
     },
     "metadata": {
      "needs_background": "light"
     },
     "output_type": "display_data"
    }
   ],
   "source": [
    "def ddpg(n_episodes=2000, max_t=1000, solve_score = 30):\n",
    "    scores_deque = deque(maxlen=100)\n",
    "    scores = []\n",
    "    for i_episode in range(1, n_episodes+1):\n",
    "        agent.noise.reset()\n",
    "        states = env.reset(train_mode=True)[brain_name].vector_observations\n",
    "        score_all_agents = np.zeros(num_agents) \n",
    "        time_episode_start = time.time()\n",
    "        \n",
    "        for t in range(1, max_t+1):\n",
    "            \n",
    "            actions = agent.act(states)\n",
    "#             print(\"Actions are: \", actions)\n",
    "            env_info = env.step(actions)[brain_name] \n",
    "            next_states = env_info.vector_observations \n",
    "            rewards = env_info.rewards                        \n",
    "            dones = env_info.local_done \n",
    "            ## Store experience of all the agents\n",
    "            for (state, action, reward, next_state, done) \\\n",
    "                    in zip(states, actions, rewards, next_states, dones):\n",
    "                agent.step(state, action, reward, next_state, done)\n",
    "            states = next_states\n",
    "            score_all_agents += rewards\n",
    "        \n",
    "        \n",
    "        time_episode = time.time() - time_episode_start\n",
    "        time_episode_str = time.strftime('%Mm%Ss', time.gmtime(time_episode))\n",
    "        scores_deque.append(np.mean(score_all_agents))\n",
    "        scores.append(np.mean(score_all_agents))\n",
    "        \n",
    "        print('Episode {:3d} ({})\\tScore: {:5.2f} \\t' \\\n",
    "              'Moving average: {:5.2f}' \\\n",
    "              .format(i_episode, time_episode_str, np.mean(score_all_agents),\n",
    "                      np.mean(scores_deque)))\n",
    "        \n",
    "#         print('\\rEpisode {}\\tAverage Score: {:.2f}\\tScore: {:.2f}'.format(i_episode, np.mean(scores_deque), scores[-1]), end=\"\")\n",
    "        if i_episode % 100 == 0:\n",
    "            torch.save(agent.actor_local.state_dict(), 'checkpoint_actor.pth')\n",
    "            torch.save(agent.critic_local.state_dict(), 'checkpoint_critic.pth')\n",
    "            print('\\rEpisode {}\\tAverage Score: {:.2f}'.format(i_episode, np.mean(scores_deque)))   \n",
    "            \n",
    "        if np.mean(scores_deque) >= solve_score:\n",
    "            print('\\nEnvironment solved in {:d} episodes!\\tAverage Score: {:.2f}'.format(i_episode,\n",
    "                                                                                         np.mean(scores_deque)))\n",
    "            torch.save(agent.actor_local.state_dict(), 'checkpoint_actor.pth')\n",
    "            torch.save(agent.critic_local.state_dict(), 'checkpoint_critic.pth')\n",
    "            break\n",
    "    return scores\n",
    "\n",
    "\n",
    "if train:\n",
    "    scores = ddpg()"
   ]
  },
  {
   "cell_type": "markdown",
   "metadata": {},
   "source": [
    "### Plot scores of trained agent"
   ]
  },
  {
   "cell_type": "code",
   "execution_count": 8,
   "metadata": {
    "ExecuteTime": {
     "end_time": "2020-06-11T11:03:35.821527Z",
     "start_time": "2020-06-11T11:03:35.713508Z"
    }
   },
   "outputs": [
    {
     "data": {
      "image/png": "[encoded data removed]",
      "text/plain": [
       "<Figure size 432x288 with 1 Axes>"
      ]
     },
     "metadata": {
      "needs_background": "light"
     },
     "output_type": "display_data"
    }
   ],
   "source": [
    "if train:\n",
    "    fig = plt.figure()\n",
    "    ax = fig.add_subplot(111)\n",
    "    plt.plot(np.arange(1, len(scores)+1), scores)\n",
    "    plt.ylabel('Score')\n",
    "    plt.xlabel('Episode #')\n",
    "    plt.show()"
   ]
  },
  {
   "cell_type": "code",
   "execution_count": 9,
   "metadata": {
    "ExecuteTime": {
     "end_time": "2020-06-11T11:04:22.649182Z",
     "start_time": "2020-06-11T11:04:22.646589Z"
    }
   },
   "outputs": [],
   "source": [
    "env.close()"
   ]
  },
  {
   "cell_type": "markdown",
   "metadata": {},
   "source": [
    "## Test the trained weights"
   ]
  },
  {
   "cell_type": "code",
   "execution_count": 2,
   "metadata": {
    "ExecuteTime": {
     "end_time": "2020-06-11T11:14:06.727271Z",
     "start_time": "2020-06-11T11:14:04.132294Z"
    }
   },
   "outputs": [
    {
     "name": "stderr",
     "output_type": "stream",
     "text": [
      "INFO:unityagents:\n",
      "'Academy' started successfully!\n",
      "Unity Academy name: Academy\n",
      "        Number of Brains: 1\n",
      "        Number of External Brains : 1\n",
      "        Lesson number : 0\n",
      "        Reset Parameters :\n",
      "\t\tgoal_speed -> 1.0\n",
      "\t\tgoal_size -> 5.0\n",
      "Unity brain name: ReacherBrain\n",
      "        Number of Visual Observations (per agent): 0\n",
      "        Vector Observation space type: continuous\n",
      "        Vector Observation space size (per agent): 33\n",
      "        Number of stacked Vector Observation: 1\n",
      "        Vector Action space type: continuous\n",
      "        Vector Action space size (per agent): 4\n",
      "        Vector Action descriptions: , , , \n"
     ]
    }
   ],
   "source": [
    "## Load Envtt with Visualization\n",
    "env = UnityEnvironment(file_name='Reacher_Linux_multi//Reacher.x86_64')"
   ]
  },
  {
   "cell_type": "code",
   "execution_count": null,
   "metadata": {},
   "outputs": [],
   "source": [
    "# get the default brain\n",
    "brain_name = env.brain_names[0]\n",
    "brain = env.brains[brain_name]"
   ]
  },
  {
   "cell_type": "code",
   "execution_count": null,
   "metadata": {},
   "outputs": [],
   "source": [
    "# reset the environment\n",
    "env_info = env.reset(train_mode=True)[brain_name]\n",
    "\n",
    "# number of agents\n",
    "num_agents = len(env_info.agents)\n",
    "print('Number of agents:', num_agents)\n",
    "\n",
    "# size of each action\n",
    "action_size = brain.vector_action_space_size\n",
    "print('Size of each action:', action_size)\n",
    "\n",
    "# examine the state space \n",
    "states = env_info.vector_observations\n",
    "state_size = states.shape[1]\n",
    "print('There are {} agents. Each observes a state with length: {}'.format(states.shape[0], state_size))\n",
    "print('The state for the first agent looks like:', states[0])"
   ]
  },
  {
   "cell_type": "code",
   "execution_count": 6,
   "metadata": {
    "ExecuteTime": {
     "end_time": "2020-06-11T11:19:42.693948Z",
     "start_time": "2020-06-11T11:19:41.037679Z"
    }
   },
   "outputs": [
    {
     "name": "stdout",
     "output_type": "stream",
     "text": [
      "Actor network built: ModuleList(\n",
      "  (0): Linear(in_features=33, out_features=400, bias=True)\n",
      "  (1): Linear(in_features=400, out_features=300, bias=True)\n",
      "  (2): Linear(in_features=300, out_features=4, bias=True)\n",
      ")\n",
      "Actor network built: ModuleList(\n",
      "  (0): Linear(in_features=33, out_features=400, bias=True)\n",
      "  (1): Linear(in_features=400, out_features=300, bias=True)\n",
      "  (2): Linear(in_features=300, out_features=4, bias=True)\n",
      ")\n",
      "Critic network built: ModuleList(\n",
      "  (0): Linear(in_features=33, out_features=400, bias=True)\n",
      "  (1): Linear(in_features=404, out_features=300, bias=True)\n",
      "  (2): Linear(in_features=300, out_features=1, bias=True)\n",
      ")\n",
      "Critic network built: ModuleList(\n",
      "  (0): Linear(in_features=33, out_features=400, bias=True)\n",
      "  (1): Linear(in_features=404, out_features=300, bias=True)\n",
      "  (2): Linear(in_features=300, out_features=1, bias=True)\n",
      ")\n"
     ]
    },
    {
     "data": {
      "text/plain": [
       "<All keys matched successfully>"
      ]
     },
     "execution_count": 6,
     "metadata": {},
     "output_type": "execute_result"
    }
   ],
   "source": [
    "agent = Agent(state_size, action_size, random_seed=0)\n",
    "agent.actor_local.load_state_dict(torch.load('checkpoint_actor.pth'))\n",
    "agent.critic_local.load_state_dict(torch.load('checkpoint_critic.pth'))"
   ]
  },
  {
   "cell_type": "code",
   "execution_count": 8,
   "metadata": {
    "ExecuteTime": {
     "end_time": "2020-06-11T11:21:46.300989Z",
     "start_time": "2020-06-11T11:20:27.452658Z"
    }
   },
   "outputs": [
    {
     "name": "stdout",
     "output_type": "stream",
     "text": [
      "Total score (averaged over agents) this episode: 32.38899927604943\n"
     ]
    }
   ],
   "source": [
    "env_info = env.reset(train_mode=False)[brain_name]     # reset the environment    \n",
    "states = env_info.vector_observations                  # get the current state (for each agent)\n",
    "scores = np.zeros(num_agents)                          # initialize the score (for each agent)\n",
    "\n",
    "while True:\n",
    "    actions = agent.act(states, add_noise=False)           ## select actions from DDPG policy\n",
    "    env_info = env.step(actions)[brain_name]           # send all actions to tne environment\n",
    "    next_states = env_info.vector_observations         # get next state (for each agent)\n",
    "    rewards = env_info.rewards                         # get reward (for each agent)\n",
    "    dones = env_info.local_done                        # see if episode finished\n",
    "    scores += env_info.rewards                         # update the score (for each agent)\n",
    "    states = next_states                              # roll over states to next time step\n",
    "    if np.any(dones):                                  # exit loop if episode finished\n",
    "        break\n",
    "print('Total score (averaged over agents) this episode: {}'.format(np.mean(scores)))\n"
   ]
  },
  {
   "cell_type": "code",
   "execution_count": 9,
   "metadata": {
    "ExecuteTime": {
     "end_time": "2020-06-11T11:22:25.619277Z",
     "start_time": "2020-06-11T11:22:25.616733Z"
    }
   },
   "outputs": [],
   "source": [
    "env.close()"
   ]
  },
  {
   "cell_type": "code",
   "execution_count": null,
   "metadata": {},
   "outputs": [],
   "source": []
  }
 ],
 "metadata": {
  "kernelspec": {
   "display_name": "Python [conda env:torch] *",
   "language": "python",
   "name": "conda-env-torch-py"
  },
  "language_info": {
   "codemirror_mode": {
    "name": "ipython",
    "version": 3
   },
   "file_extension": ".py",
   "mimetype": "text/x-python",
   "name": "python",
   "nbconvert_exporter": "python",
   "pygments_lexer": "ipython3",
   "version": "3.6.10"
  },
  "toc": {
   "base_numbering": 1,
   "nav_menu": {},
   "number_sections": true,
   "sideBar": true,
   "skip_h1_title": false,
   "title_cell": "Table of Contents",
   "title_sidebar": "Contents",
   "toc_cell": false,
   "toc_position": {},
   "toc_section_display": true,
   "toc_window_display": true
  }
 },
 "nbformat": 4,
 "nbformat_minor": 2
}
